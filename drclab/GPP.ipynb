{
 "cells": [
  {
   "cell_type": "code",
   "execution_count": 3,
   "metadata": {},
   "outputs": [
    {
     "name": "stderr",
     "output_type": "stream",
     "text": [
      "/home/dulunche/.local/lib/python3.10/site-packages/tqdm/auto.py:22: TqdmWarning: IProgress not found. Please update jupyter and ipywidgets. See https://ipywidgets.readthedocs.io/en/stable/user_install.html\n",
      "  from .autonotebook import tqdm as notebook_tqdm\n"
     ]
    }
   ],
   "source": [
    "import jax.numpy as jnp\n",
    "import numpyro"
   ]
  },
  {
   "cell_type": "code",
   "execution_count": 36,
   "metadata": {},
   "outputs": [],
   "source": [
    "x = [1,2,3]\n",
    "z = [2,3,4]"
   ]
  },
  {
   "cell_type": "code",
   "execution_count": 37,
   "metadata": {},
   "outputs": [],
   "source": [
    "x = jnp.array(x)\n",
    "z = jnp.array(z)"
   ]
  },
  {
   "cell_type": "code",
   "execution_count": 38,
   "metadata": {},
   "outputs": [],
   "source": [
    "x = x.reshape(x.shape[0],1)\n",
    "z = z.reshape(z.shape[0],1)"
   ]
  },
  {
   "cell_type": "code",
   "execution_count": 39,
   "metadata": {},
   "outputs": [],
   "source": [
    "n_x, m = x.shape\n",
    "n_z, m_z = z.shape"
   ]
  },
  {
   "cell_type": "code",
   "execution_count": 40,
   "metadata": {},
   "outputs": [
    {
     "name": "stdout",
     "output_type": "stream",
     "text": [
      "3 3 1 1\n"
     ]
    }
   ],
   "source": [
    "print(n_x, n_z, m, m_z)"
   ]
  },
  {
   "cell_type": "code",
   "execution_count": 41,
   "metadata": {},
   "outputs": [],
   "source": [
    "assert m == m_z"
   ]
  },
  {
   "cell_type": "code",
   "execution_count": 64,
   "metadata": {},
   "outputs": [],
   "source": [
    "delta = jnp.zeros((n_x, n_z))"
   ]
  },
  {
   "cell_type": "code",
   "execution_count": 65,
   "metadata": {},
   "outputs": [
    {
     "data": {
      "text/plain": [
       "DeviceArray([[0., 0., 0.],\n",
       "             [0., 0., 0.],\n",
       "             [0., 0., 0.]], dtype=float32)"
      ]
     },
     "execution_count": 65,
     "metadata": {},
     "output_type": "execute_result"
    }
   ],
   "source": [
    "delta"
   ]
  },
  {
   "cell_type": "code",
   "execution_count": 66,
   "metadata": {},
   "outputs": [
    {
     "name": "stdout",
     "output_type": "stream",
     "text": [
      "0\n",
      "[1 2 3] [2 3 4]\n",
      "[[1]\n",
      " [2]\n",
      " [3]]\n",
      "[[1. 4. 9.]\n",
      " [0. 1. 4.]\n",
      " [1. 0. 1.]]\n"
     ]
    },
    {
     "data": {
      "text/plain": [
       "DeviceArray([[1., 2., 3.],\n",
       "             [0., 1., 2.],\n",
       "             [1., 0., 1.]], dtype=float32)"
      ]
     },
     "execution_count": 66,
     "metadata": {},
     "output_type": "execute_result"
    }
   ],
   "source": [
    "for d in jnp.arange(m):\n",
    "    print(d)\n",
    "    x_d = x[:,d]\n",
    "    z_d = z[:,d]\n",
    "    print(x_d, z_d)\n",
    "    print(x_d[:,jnp.newaxis])\n",
    "    delta += (x_d[:,jnp.newaxis] - z_d)**2\n",
    "    print(delta)\n",
    "jnp.sqrt(delta)"
   ]
  },
  {
   "cell_type": "code",
   "execution_count": 45,
   "metadata": {},
   "outputs": [],
   "source": [
    "def dist_euclid(x, z):\n",
    "    x = jnp.array(x) \n",
    "    z = jnp.array(z)\n",
    "    if len(x.shape)==1:\n",
    "        x = x.reshape(x.shape[0], 1)\n",
    "    if len(z.shape)==1:\n",
    "        z = x.reshape(x.shape[0], 1)\n",
    "    n_x, m = x.shape\n",
    "    n_z, m_z = z.shape\n",
    "    assert m == m_z\n",
    "    delta = jnp.zeros((n_x,n_z))\n",
    "    for d in jnp.arange(m):\n",
    "        x_d = x[:,d]\n",
    "        z_d = z[:,d]\n",
    "        delta += (x_d[:,jnp.newaxis] - z_d)**2\n",
    "    return jnp.sqrt(delta)"
   ]
  },
  {
   "cell_type": "code",
   "execution_count": 67,
   "metadata": {},
   "outputs": [
    {
     "data": {
      "text/plain": [
       "DeviceArray([[0., 1., 2.],\n",
       "             [1., 0., 1.],\n",
       "             [2., 1., 0.]], dtype=float32)"
      ]
     },
     "execution_count": 67,
     "metadata": {},
     "output_type": "execute_result"
    }
   ],
   "source": [
    "dist_euclid([1,2,3], [2,3,4])"
   ]
  },
  {
   "cell_type": "code",
   "execution_count": null,
   "metadata": {},
   "outputs": [],
   "source": []
  },
  {
   "cell_type": "code",
   "execution_count": 46,
   "metadata": {},
   "outputs": [],
   "source": [
    "def exp_sq_kernel(x, z, var, length, noise=0, jitter=1.0e-6):\n",
    "    dist = dist_euclid(x, z)\n",
    "    deltaXsq = jnp.power(dist/ length, 2.0)\n",
    "    k = var * jnp.exp(-0.5 * deltaXsq)\n",
    "    k += (noise + jitter) * jnp.eye(x.shape[0])\n",
    "    return k"
   ]
  }
 ],
 "metadata": {
  "kernelspec": {
   "display_name": "Python 3.10.6 64-bit",
   "language": "python",
   "name": "python3"
  },
  "language_info": {
   "codemirror_mode": {
    "name": "ipython",
    "version": 3
   },
   "file_extension": ".py",
   "mimetype": "text/x-python",
   "name": "python",
   "nbconvert_exporter": "python",
   "pygments_lexer": "ipython3",
   "version": "3.10.6"
  },
  "orig_nbformat": 4,
  "vscode": {
   "interpreter": {
    "hash": "916dbcbb3f70747c44a77c7bcd40155683ae19c65e1c03b4aa3499c5328201f1"
   }
  }
 },
 "nbformat": 4,
 "nbformat_minor": 2
}
